{
 "cells": [
  {
   "cell_type": "code",
   "execution_count": 1,
   "metadata": {},
   "outputs": [],
   "source": [
    "from map_util import *\n",
    "from play import GamePlayer"
   ]
  },
  {
   "cell_type": "code",
   "execution_count": 2,
   "metadata": {},
   "outputs": [],
   "source": [
    "user_id = '6616b1c5bd0a697480a68319'"
   ]
  },
  {
   "cell_type": "code",
   "execution_count": null,
   "metadata": {},
   "outputs": [],
   "source": [
    "def quest():\n",
    "    with GamePlayer(user_id=user_id, plot=False, print=False) as player:\n",
    "        player.start()\n",
    "        while not player.finished:\n",
    "            player.step()\n",
    "\n",
    "def train(level):\n",
    "    with GamePlayer(user_id=user_id, plot=True, print=True) as player:\n",
    "        player.start(level)\n",
    "        while not player.finished:\n",
    "            player.step()\n",
    "            \n",
    "#train(9)\n",
    "quest()"
   ]
  }
 ],
 "metadata": {
  "kernelspec": {
   "display_name": "swoc",
   "language": "python",
   "name": "python3"
  },
  "language_info": {
   "codemirror_mode": {
    "name": "ipython",
    "version": 3
   },
   "file_extension": ".py",
   "mimetype": "text/x-python",
   "name": "python",
   "nbconvert_exporter": "python",
   "pygments_lexer": "ipython3",
   "version": "3.12.2"
  }
 },
 "nbformat": 4,
 "nbformat_minor": 2
}
