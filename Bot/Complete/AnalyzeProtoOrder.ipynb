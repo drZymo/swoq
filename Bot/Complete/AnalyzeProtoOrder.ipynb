{
 "cells": [
  {
   "cell_type": "code",
   "execution_count": 94,
   "metadata": {},
   "outputs": [],
   "source": [
    "import swoq_pb2\n",
    "import replay_pb2\n",
    "import grpc\n",
    "from pathlib import Path"
   ]
  },
  {
   "cell_type": "code",
   "execution_count": 95,
   "metadata": {},
   "outputs": [],
   "source": [
    "replay = Path(r'D:\\Projects\\swoq-stuff\\Replays\\Quest\\Ralph - a24f34e8-0b24-4420-ae30-8d8ecf33a3b8.bin')"
   ]
  },
  {
   "cell_type": "code",
   "execution_count": 96,
   "metadata": {},
   "outputs": [],
   "source": [
    "from google.protobuf.internal.decoder import _DecodeVarint32"
   ]
  },
  {
   "cell_type": "code",
   "execution_count": 97,
   "metadata": {},
   "outputs": [],
   "source": [
    "def analyze_player_state(playerState: swoq_pb2.PlayerState, level: int) -> None:\n",
    "    global tiles_seen_at, inventory_seen_at\n",
    "    \n",
    "    for tile in playerState.surroundings:\n",
    "        if tile not in tiles_seen_at:\n",
    "            tiles_seen_at[tile] = level\n",
    "            \n",
    "    if playerState.inventory not in inventory_seen_at:\n",
    "        inventory_seen_at[playerState.inventory] = level\n",
    "\n",
    "\n",
    "def analyze_state(state: swoq_pb2.State) -> None:\n",
    "    global second_player_at\n",
    "    \n",
    "    level = state.level\n",
    "    \n",
    "    if state.HasField('playerState'):\n",
    "        analyze_player_state(state.playerState, level)\n",
    "    if state.HasField('player2State'):\n",
    "        analyze_player_state(state.player2State, level)\n",
    "        if second_player_at is None:\n",
    "            second_player_at = level"
   ]
  },
  {
   "cell_type": "code",
   "execution_count": null,
   "metadata": {},
   "outputs": [],
   "source": [
    "tiles_seen_at = {}\n",
    "inventory_seen_at = {}\n",
    "second_player_at = None\n",
    "\n",
    "pos, next_pos = 0, 0\n",
    "with open(replay, 'rb') as file:\n",
    "    data = file.read()\n",
    "\n",
    "header = None\n",
    "start_req = None\n",
    "start_rsp = None\n",
    "act_req = None\n",
    "act_rsp = None\n",
    "\n",
    "while pos < len(data):\n",
    "    next_pos, pos = _DecodeVarint32(data, pos)\n",
    "    msg = data[pos:pos+next_pos]\n",
    "    \n",
    "    if header is None:\n",
    "        header = replay_pb2.ReplayHeader()\n",
    "        header.ParseFromString(msg)\n",
    "    elif start_req is None:\n",
    "        start_req = swoq_pb2.StartRequest()\n",
    "        start_req.ParseFromString(msg)\n",
    "    elif start_rsp is None:\n",
    "        start_rsp = swoq_pb2.StartResponse()\n",
    "        start_rsp.ParseFromString(msg)\n",
    "        analyze_state(start_rsp.state)\n",
    "    elif act_req is None:\n",
    "        act_req = swoq_pb2.ActRequest()\n",
    "        act_req.ParseFromString(msg)\n",
    "    elif act_rsp is None:\n",
    "        act_rsp = swoq_pb2.ActResponse()\n",
    "        act_rsp.ParseFromString(msg)\n",
    "        analyze_state(act_rsp.state)\n",
    "        act_req = None\n",
    "        act_rsp = None\n",
    "    pos += next_pos\n",
    "\n",
    "f'{second_player_at=}'"
   ]
  },
  {
   "cell_type": "code",
   "execution_count": null,
   "metadata": {},
   "outputs": [],
   "source": [
    "for t in swoq_pb2.Tile.values():\n",
    "    print(swoq_pb2.Tile.Name(t), tiles_seen_at[t] if t in tiles_seen_at else '?')\n",
    "print()\n",
    "for i in swoq_pb2.Inventory.values():\n",
    "    print(swoq_pb2.Inventory.Name(i), inventory_seen_at[i] if i in inventory_seen_at else '?')"
   ]
  }
 ],
 "metadata": {
  "kernelspec": {
   "display_name": "swoc",
   "language": "python",
   "name": "python3"
  },
  "language_info": {
   "codemirror_mode": {
    "name": "ipython",
    "version": 3
   },
   "file_extension": ".py",
   "mimetype": "text/x-python",
   "name": "python",
   "nbconvert_exporter": "python",
   "pygments_lexer": "ipython3",
   "version": "3.12.2"
  }
 },
 "nbformat": 4,
 "nbformat_minor": 2
}
