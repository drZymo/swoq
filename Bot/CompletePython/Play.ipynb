{
 "cells": [
  {
   "cell_type": "code",
   "execution_count": null,
   "metadata": {},
   "outputs": [],
   "source": [
    "!python -m grpc_tools.protoc -I. --python_out=. --pyi_out=. --grpc_python_out=. --proto_path=..\\..\\Interface swoq.proto"
   ]
  },
  {
   "cell_type": "code",
   "execution_count": null,
   "metadata": {},
   "outputs": [],
   "source": [
    "from map_util import *\n",
    "from play import GamePlayer"
   ]
  },
  {
   "cell_type": "code",
   "execution_count": null,
   "metadata": {},
   "outputs": [],
   "source": [
    "user_id = '6616b1c5bd0a697480a68319'\n",
    "user_name = 'Ralph'\n",
    "seed = 42"
   ]
  },
  {
   "cell_type": "code",
   "execution_count": null,
   "metadata": {},
   "outputs": [],
   "source": [
    "def quest():\n",
    "    with GamePlayer(user_id=user_id, user_name=user_name, plot=False, print=False) as player:\n",
    "        player.start(seed=seed)\n",
    "        while not player.finished:\n",
    "            player.step()\n",
    "\n",
    "def train(level):\n",
    "    with GamePlayer(user_id=user_id, user_name=user_name, plot=True, print=True) as player:\n",
    "        player.start(level, seed=seed)\n",
    "        while not player.finished:\n",
    "            player.step()\n",
    "    print(player.actions)\n",
    "            \n",
    "#train(20)\n",
    "quest()"
   ]
  }
 ],
 "metadata": {
  "kernelspec": {
   "display_name": "swoc",
   "language": "python",
   "name": "python3"
  },
  "language_info": {
   "codemirror_mode": {
    "name": "ipython",
    "version": 3
   },
   "file_extension": ".py",
   "mimetype": "text/x-python",
   "name": "python",
   "nbconvert_exporter": "python",
   "pygments_lexer": "ipython3",
   "version": "3.12.2"
  }
 },
 "nbformat": 4,
 "nbformat_minor": 2
}
