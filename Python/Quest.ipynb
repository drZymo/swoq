{
 "cells": [
  {
   "cell_type": "code",
   "execution_count": null,
   "metadata": {},
   "outputs": [],
   "source": [
    "from map_util import *\n",
    "from play import GamePlayer"
   ]
  },
  {
   "cell_type": "code",
   "execution_count": null,
   "metadata": {},
   "outputs": [],
   "source": [
    "with GamePlayer(quest=True, plot=False, print=False) as player:\n",
    "    player.start()\n",
    "\n",
    "    while not player.finished:\n",
    "        player.explore()\n",
    "        player.try_reach_exit()\n",
    "        if player.finished: break\n",
    "        player.try_get_health()\n",
    "        player.try_get_sword()\n",
    "        player.fight_enemy()\n",
    "        player.try_get_key()\n",
    "        player.try_open_door()\n",
    "        player.move_to_pressure_plate()\n",
    "        #sleep(0.1)"
   ]
  }
 ],
 "metadata": {
  "kernelspec": {
   "display_name": "swoc",
   "language": "python",
   "name": "python3"
  },
  "language_info": {
   "codemirror_mode": {
    "name": "ipython",
    "version": 3
   },
   "file_extension": ".py",
   "mimetype": "text/x-python",
   "name": "python",
   "nbconvert_exporter": "python",
   "pygments_lexer": "ipython3",
   "version": "3.12.2"
  }
 },
 "nbformat": 4,
 "nbformat_minor": 2
}
