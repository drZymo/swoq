{
 "cells": [
  {
   "cell_type": "code",
   "execution_count": null,
   "metadata": {},
   "outputs": [],
   "source": [
    "import grpc\n",
    "import swoq_pb2\n",
    "import swoq_pb2_grpc\n",
    "import numpy as np\n",
    "import matplotlib.pyplot as plt\n",
    "from IPython.display import clear_output, display"
   ]
  },
  {
   "cell_type": "code",
   "execution_count": null,
   "metadata": {},
   "outputs": [],
   "source": [
    "player_id = '6616b1c5bd0a697480a68319'"
   ]
  },
  {
   "cell_type": "code",
   "execution_count": null,
   "metadata": {},
   "outputs": [],
   "source": [
    "colors = {\n",
    "    0: [  0,   0,   0], # UNKNOWN\n",
    "    1: [ 50,  50,  50], # EMPTY\n",
    "    2: [  0,   0, 255], # PLAYER\n",
    "    3: [147, 124,  93], # WALL\n",
    "    4: [230, 217, 177], # EXIT\n",
    "\n",
    "    5: [192,   0,   0], # DOOR_RED\n",
    "    6: [255,   0,   0], # KEY_RED\n",
    "}"
   ]
  },
  {
   "cell_type": "code",
   "execution_count": null,
   "metadata": {},
   "outputs": [],
   "source": [
    "def get_map_image(map, height, width):\n",
    "    map_img = np.zeros((height, width, 3), dtype=np.float32)\n",
    "    i = 0\n",
    "    for y in range(height):\n",
    "        for x in range(width):\n",
    "            map_img[y, x] = (np.array(colors[map[i]]) / 255).astype(np.float32)\n",
    "            i += 1\n",
    "    return map_img\n",
    "\n",
    "def plot_map(map, height, width):\n",
    "    map_img = get_map_image(map, height, width)\n",
    "    fig = plt.figure()\n",
    "    plt.gca().set_axis_off()\n",
    "    plt.tight_layout(pad=0)\n",
    "    img = plt.imshow(map_img)\n",
    "    plt.show()\n",
    "    return (fig, img)\n",
    "\n",
    "def update_map(frame, map, height, width):\n",
    "    map_img = get_map_image(map, height, width)\n",
    "\n",
    "    fig, img = frame\n",
    "    img.set_data(map_img)\n",
    "    clear_output(wait=True)\n",
    "    display(fig)"
   ]
  },
  {
   "cell_type": "code",
   "execution_count": null,
   "metadata": {},
   "outputs": [],
   "source": [
    "with grpc.insecure_channel('localhost:5009') as channel:\n",
    "    stub = swoq_pb2_grpc.TrainingStub(channel)\n",
    "    startResponse = stub.StartGame(swoq_pb2.StartRequest(playerId=player_id))\n",
    "\n",
    "print(f'{startResponse.result=}')\n",
    "\n",
    "game_id = startResponse.gameId\n",
    "print(f'{game_id=}')\n",
    "height = startResponse.height\n",
    "width = startResponse.width\n",
    "print(f'{height=}, {width=}')\n",
    "\n",
    "map = np.array(startResponse.state.map)\n",
    "plot_map(map, height, width)\n"
   ]
  },
  {
   "cell_type": "code",
   "execution_count": null,
   "metadata": {},
   "outputs": [],
   "source": [
    "def softmax(a):\n",
    "    e = np.exp(a)\n",
    "    return e / np.sum(e)\n",
    "\n",
    "def pick_random_move(map):\n",
    "    player_pos = np.unravel_index(np.argwhere(map == 2).flatten()[0], (height, width))\n",
    "    target_pos = np.array([height-2, width-1])\n",
    "    print(f'{player_pos=}, {target_pos=}')\n",
    "\n",
    "    diff = target_pos - player_pos\n",
    "    direction = np.sign(diff)\n",
    "\n",
    "    # increase probability for actions in right direction\n",
    "    moves = np.ones((4,))\n",
    "    if direction[0] < 0: moves[0] += 1 # NORTH\n",
    "    if direction[0] > 0: moves[1] += 1 # SOUTH\n",
    "    if direction[1] < 0: moves[2] += 1 # WEST\n",
    "    if direction[1] > 0: moves[3] += 1 # EAST\n",
    "    print(f'{moves=}')\n",
    "    moves = softmax(moves)\n",
    "\n",
    "    # choose random move\n",
    "    directions = [swoq_pb2.NORTH, swoq_pb2.SOUTH, swoq_pb2.WEST, swoq_pb2.EAST]\n",
    "    direction = np.random.choice(directions, p=moves)\n",
    "    print(f'{direction=}')\n",
    "    return direction"
   ]
  },
  {
   "cell_type": "code",
   "execution_count": null,
   "metadata": {},
   "outputs": [],
   "source": [
    "def move(direction):\n",
    "    global frame\n",
    "    with grpc.insecure_channel('localhost:5009') as channel:\n",
    "        stub = swoq_pb2_grpc.TrainingStub(channel)\n",
    "        moveResponse = stub.Move(swoq_pb2.MoveRequest(gameId=game_id, direction=direction))\n",
    "\n",
    "    global map\n",
    "    map = np.array(moveResponse.state.map)\n",
    "    update_map(frame, map, height, width)\n",
    "    print(f'{moveResponse.result=}')\n",
    "    print(f'{moveResponse.state.finished=}')\n",
    "    print(f'{moveResponse.state.inventory=}')"
   ]
  },
  {
   "cell_type": "code",
   "execution_count": null,
   "metadata": {},
   "outputs": [],
   "source": [
    "sequence = 'SSSSSEEENNSSSSESESESESESESESESESE'\n",
    "\n",
    "frame = plot_map(map, height, width)\n",
    "\n",
    "for s in sequence:\n",
    "    match s:\n",
    "        case 'N': move(swoq_pb2.NORTH)\n",
    "        case 'E': move(swoq_pb2.EAST)\n",
    "        case 'S': move(swoq_pb2.SOUTH)\n",
    "        case 'W': move(swoq_pb2.WEST)"
   ]
  }
 ],
 "metadata": {
  "kernelspec": {
   "display_name": "swoc",
   "language": "python",
   "name": "python3"
  },
  "language_info": {
   "codemirror_mode": {
    "name": "ipython",
    "version": 3
   },
   "file_extension": ".py",
   "mimetype": "text/x-python",
   "name": "python",
   "nbconvert_exporter": "python",
   "pygments_lexer": "ipython3",
   "version": "3.12.2"
  }
 },
 "nbformat": 4,
 "nbformat_minor": 2
}
