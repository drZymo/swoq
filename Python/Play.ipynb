{
 "cells": [
  {
   "cell_type": "code",
   "execution_count": 1,
   "metadata": {},
   "outputs": [],
   "source": [
    "import grpc\n",
    "import swoq_pb2\n",
    "import swoq_pb2_grpc\n",
    "import numpy as np\n",
    "from time import sleep\n",
    "from map_util import *"
   ]
  },
  {
   "cell_type": "code",
   "execution_count": 2,
   "metadata": {},
   "outputs": [],
   "source": [
    "player_id = '6616b1c5bd0a697480a68319'"
   ]
  },
  {
   "cell_type": "code",
   "execution_count": 3,
   "metadata": {},
   "outputs": [],
   "source": [
    "def update_global_state(state):\n",
    "    global map, visibility_range\n",
    "    global player_pos, inventory, finished\n",
    "\n",
    "    player_pos = (state.playerPos.y, state.playerPos.x)\n",
    "    inventory = state.inventory\n",
    "    finished = state.finished\n",
    "    print(f'{player_pos=}, {inventory=}, {finished=}')\n",
    "\n",
    "    top = player_pos[0] - visibility_range\n",
    "    left = player_pos[1] - visibility_range\n",
    "    i = 0\n",
    "    for y in range(visibility_range*2 + 1):\n",
    "        for x in range(visibility_range*2 + 1):\n",
    "            s = state.surroundings[i]\n",
    "            if s != UNKNOWN:\n",
    "                map_x = left + x\n",
    "                map_y = top + y\n",
    "                if 0 <= map_y < map.shape[0] and 0 <= map_x < map.shape[1]:\n",
    "                    map[map_y, map_x] = s\n",
    "            i += 1"
   ]
  },
  {
   "cell_type": "code",
   "execution_count": 4,
   "metadata": {},
   "outputs": [
    {
     "name": "stdout",
     "output_type": "stream",
     "text": [
      "startResponse.result=0\n",
      "game_id='d4c43a83-fb23-42fc-bcc4-7440b93fc82b', height=20, width=20, visibility_range=5\n",
      "player_pos=(1, 1), inventory=0, finished=False\n"
     ]
    },
    {
     "data": {
      "image/png": "[encoded data removed]",
      "text/plain": [
       "<Figure size 640x480 with 1 Axes>"
      ]
     },
     "metadata": {},
     "output_type": "display_data"
    },
    {
     "data": {
      "text/plain": [
       "(<Figure size 640x480 with 1 Axes>,\n",
       " <matplotlib.image.AxesImage at 0x21e0be038c0>)"
      ]
     },
     "execution_count": 4,
     "metadata": {},
     "output_type": "execute_result"
    }
   ],
   "source": [
    "def start():\n",
    "    global map, game_id, visibility_range\n",
    "    \n",
    "    with grpc.insecure_channel('localhost:5009') as channel:\n",
    "        stub = swoq_pb2_grpc.TrainingStub(channel)\n",
    "        startResponse = stub.StartGame(swoq_pb2.StartRequest(playerId=player_id, level=0))\n",
    "\n",
    "    print(f'{startResponse.result=}')\n",
    "\n",
    "    game_id = startResponse.gameId\n",
    "    height = startResponse.height\n",
    "    width = startResponse.width\n",
    "    visibility_range = startResponse.visibilityRange\n",
    "    print(f'{game_id=}, {height=}, {width=}, {visibility_range=}')\n",
    "\n",
    "    map = np.zeros((height, width), dtype=np.int8)\n",
    "\n",
    "    update_global_state(startResponse.state)\n",
    "\n",
    "start()\n",
    "plot_map(map)"
   ]
  },
  {
   "cell_type": "code",
   "execution_count": 5,
   "metadata": {},
   "outputs": [],
   "source": [
    "def softmax(a):\n",
    "    e = np.exp(a)\n",
    "    return e / np.sum(e)\n",
    "\n",
    "def pick_random_move(map):\n",
    "    height, width = map.shape\n",
    "    player_pos = np.unravel_index(np.argwhere(map == 2).flatten()[0], (height, width))\n",
    "    target_pos = np.array([height-2, width-1])\n",
    "    print(f'{player_pos=}, {target_pos=}')\n",
    "\n",
    "    diff = target_pos - player_pos\n",
    "    direction = np.sign(diff)\n",
    "\n",
    "    # increase probability for actions in right direction\n",
    "    moves = np.ones((4,))\n",
    "    if direction[0] < 0: moves[0] += 1 # NORTH\n",
    "    if direction[0] > 0: moves[1] += 1 # SOUTH\n",
    "    if direction[1] < 0: moves[2] += 1 # WEST\n",
    "    if direction[1] > 0: moves[3] += 1 # EAST\n",
    "    print(f'{moves=}')\n",
    "    moves = softmax(moves)\n",
    "\n",
    "    # choose random move\n",
    "    directions = [swoq_pb2.NORTH, swoq_pb2.SOUTH, swoq_pb2.WEST, swoq_pb2.EAST]\n",
    "    direction = np.random.choice(directions, p=moves)\n",
    "    print(f'{direction=}')\n",
    "    return direction"
   ]
  },
  {
   "cell_type": "code",
   "execution_count": 6,
   "metadata": {},
   "outputs": [],
   "source": [
    "to_swoq_pb2_direction = {\n",
    "    'N': swoq_pb2.NORTH,\n",
    "    'E': swoq_pb2.EAST,\n",
    "    'S': swoq_pb2.SOUTH,\n",
    "    'W': swoq_pb2.WEST,\n",
    "    None: None,\n",
    "}\n",
    "def move(direction: str) -> None:\n",
    "    global frame, to_swoq_pb2_direction\n",
    "    \n",
    "    dir = to_swoq_pb2_direction[direction]\n",
    "    \n",
    "    with grpc.insecure_channel('localhost:5009') as channel:\n",
    "        stub = swoq_pb2_grpc.TrainingStub(channel)\n",
    "        moveResponse = stub.Move(swoq_pb2.ActionRequest(gameId=game_id, direction=dir))\n",
    "\n",
    "    if moveResponse.result == 0:\n",
    "        update_global_state(moveResponse.state)\n",
    "\n",
    "    update_map(frame, map)\n",
    "    print(f'{moveResponse.result=}')\n",
    "    print(f'{moveResponse.state.finished=}')\n",
    "    print(f'{moveResponse.state.inventory=}')\n",
    "\n",
    "def use(direction: str) -> None:\n",
    "    global frame, to_swoq_pb2_direction\n",
    "\n",
    "    dir = to_swoq_pb2_direction[direction]\n",
    "\n",
    "    with grpc.insecure_channel('localhost:5009') as channel:\n",
    "        stub = swoq_pb2_grpc.TrainingStub(channel)\n",
    "        useResponse = stub.Use(swoq_pb2.ActionRequest(gameId=game_id, direction=dir))\n",
    "\n",
    "    if useResponse.result == 0:\n",
    "        update_global_state(useResponse.state)\n",
    "        \n",
    "    update_map(frame, map)\n",
    "    print(f'{useResponse.result=}')\n",
    "    print(f'{useResponse.state.finished=}')\n",
    "    print(f'{useResponse.state.inventory=}')"
   ]
  },
  {
   "cell_type": "code",
   "execution_count": 7,
   "metadata": {},
   "outputs": [],
   "source": [
    "def get_direction_towards_closest_unknown():\n",
    "    global map, player_pos\n",
    "\n",
    "    distances, paths = compute_distances(map, player_pos)\n",
    "\n",
    "    closest_empty = None\n",
    "    closest_dist = None\n",
    "\n",
    "    # find closest empty with UNKNOWN neighbors\n",
    "    for pos in np.argwhere(map == EMPTY):\n",
    "        pos = tuple(pos)\n",
    "        pos_y, pos_x = pos\n",
    "        if map[pos_y, pos_x-1] == UNKNOWN or \\\n",
    "                map[pos_y, pos_x+1] == UNKNOWN or \\\n",
    "                map[pos_y+1, pos_x] == UNKNOWN or \\\n",
    "                map[pos_y-1, pos_x] == UNKNOWN:\n",
    "            dist = distances[pos]\n",
    "            if closest_dist is None or dist < closest_dist:\n",
    "                closest_dist = dist\n",
    "                closest_empty = pos\n",
    "               \n",
    "    if closest_empty is None:\n",
    "        return None\n",
    "\n",
    "    return get_direction_towards(paths, player_pos, closest_empty)"
   ]
  },
  {
   "cell_type": "code",
   "execution_count": 8,
   "metadata": {},
   "outputs": [
    {
     "data": {
      "image/png": "[encoded data removed]",
      "text/plain": [
       "<Figure size 640x480 with 1 Axes>"
      ]
     },
     "metadata": {},
     "output_type": "display_data"
    },
    {
     "name": "stdout",
     "output_type": "stream",
     "text": [
      "moveResponse.result=0\n",
      "moveResponse.state.finished=False\n",
      "moveResponse.state.inventory=0\n"
     ]
    }
   ],
   "source": [
    "\n",
    "def explore():\n",
    "    while True:\n",
    "        direction = get_direction_towards_closest_unknown()\n",
    "        if direction is None: break\n",
    "        move(direction)\n",
    "        #sleep(0.05)\n",
    "\n",
    "frame = plot_map(map)\n",
    "explore()"
   ]
  },
  {
   "cell_type": "code",
   "execution_count": 9,
   "metadata": {},
   "outputs": [
    {
     "data": {
      "image/png": "[encoded data removed]",
      "text/plain": [
       "<Figure size 640x480 with 1 Axes>"
      ]
     },
     "metadata": {},
     "output_type": "display_data"
    }
   ],
   "source": [
    "def try_reach_exit():\n",
    "    global map\n",
    "    \n",
    "    exit_pos = np.argwhere(map == EXIT)\n",
    "    if not np.any(exit_pos): return\n",
    "    \n",
    "    exit_pos = exit_pos[0]\n",
    "    while True:\n",
    "        direction = get_direction_from_towards(map, player_pos, tuple(exit_pos))\n",
    "        if direction is None: break\n",
    "        move(direction)\n",
    "\n",
    "frame = plot_map(map)\n",
    "try_reach_exit()"
   ]
  },
  {
   "cell_type": "code",
   "execution_count": 10,
   "metadata": {},
   "outputs": [],
   "source": [
    "def move_to_target(target_pos: tuple[int, int]) -> None:\n",
    "    global map, player_pos\n",
    "    while True:\n",
    "        direction = get_direction_from_towards(map, player_pos, target_pos)\n",
    "        if direction is None: break\n",
    "        move(direction)"
   ]
  },
  {
   "cell_type": "code",
   "execution_count": 11,
   "metadata": {},
   "outputs": [
    {
     "data": {
      "image/png": "[encoded data removed]",
      "text/plain": [
       "<Figure size 640x480 with 1 Axes>"
      ]
     },
     "metadata": {},
     "output_type": "display_data"
    },
    {
     "name": "stdout",
     "output_type": "stream",
     "text": [
      "moveResponse.result=0\n",
      "moveResponse.state.finished=False\n",
      "moveResponse.state.inventory=1\n"
     ]
    }
   ],
   "source": [
    "def try_get_key():\n",
    "    global map, inventory\n",
    "    \n",
    "    if inventory != INVENTORY_NONE: return\n",
    "\n",
    "    target_pos = None\n",
    "    \n",
    "    doors = np.argwhere(map == DOOR_RED)\n",
    "    keys = np.argwhere(map == KEY_RED)\n",
    "    if target_pos is None and np.any(doors) and np.any(keys):\n",
    "        target_pos = tuple(keys[0])\n",
    "\n",
    "    doors = np.argwhere(map == DOOR_GREEN)\n",
    "    keys = np.argwhere(map == KEY_GREEN)\n",
    "    if target_pos is None and np.any(doors) and np.any(keys):\n",
    "        target_pos = tuple(keys[0])\n",
    "\n",
    "    doors = np.argwhere(map == DOOR_BLUE)\n",
    "    keys = np.argwhere(map == KEY_BLUE)\n",
    "    if target_pos is None and np.any(doors) and np.any(keys):\n",
    "        target_pos = tuple(keys[0])\n",
    "\n",
    "    if target_pos is not None:\n",
    "        move_to_target(target_pos)\n",
    "\n",
    "frame = plot_map(map)\n",
    "try_get_key()"
   ]
  },
  {
   "cell_type": "code",
   "execution_count": 12,
   "metadata": {},
   "outputs": [
    {
     "data": {
      "image/png": "[encoded data removed]",
      "text/plain": [
       "<Figure size 640x480 with 1 Axes>"
      ]
     },
     "metadata": {},
     "output_type": "display_data"
    },
    {
     "name": "stdout",
     "output_type": "stream",
     "text": [
      "useResponse.result=0\n",
      "useResponse.state.finished=False\n",
      "useResponse.state.inventory=0\n"
     ]
    }
   ],
   "source": [
    "def try_open_door():\n",
    "    global map, inventory\n",
    "    \n",
    "    target_pos = None\n",
    "    use_direction = None\n",
    "    \n",
    "    def find_target(door):\n",
    "        nonlocal target_pos, use_direction\n",
    "        global map\n",
    "        \n",
    "        top = (door[0]-1, door[1])\n",
    "        if target_pos is None and map[top[0], top[1]] == EMPTY:\n",
    "            target_pos = top\n",
    "            use_direction = 'S'\n",
    "        bottom = (door[0]+1, door[1])\n",
    "        if target_pos is None and map[bottom[0], bottom[1]] == EMPTY:\n",
    "            target_pos = bottom\n",
    "            use_direction = 'N'\n",
    "        left = (door[0], door[1]-1)\n",
    "        if target_pos is None and map[left[0], left[1]] == EMPTY:\n",
    "            target_pos = left\n",
    "            use_direction = 'E'\n",
    "        right = (door[0], door[1]+1)\n",
    "        if target_pos is None and map[right[0], right[1]] == EMPTY:\n",
    "            target_pos = right\n",
    "            use_direction = 'W'\n",
    "    \n",
    "    if target_pos is None and inventory == INVENTORY_KEY_RED:\n",
    "        doors = np.argwhere(map == DOOR_RED)\n",
    "        if np.any(doors): find_target(doors[0])\n",
    "\n",
    "    if target_pos is None and inventory == INVENTORY_KEY_GREEN:\n",
    "        doors = np.argwhere(map == DOOR_GREEN)\n",
    "        if np.any(doors): find_target(doors[0])\n",
    "\n",
    "    if target_pos is None and inventory == INVENTORY_KEY_BLUE:\n",
    "        doors = np.argwhere(map == DOOR_BLUE)\n",
    "        if np.any(doors): find_target(doors[0])\n",
    "                \n",
    "    if target_pos is not None:\n",
    "        move_to_target(target_pos)\n",
    "        use(use_direction)\n",
    "            \n",
    "frame = plot_map(map)\n",
    "try_open_door()"
   ]
  },
  {
   "cell_type": "code",
   "execution_count": 13,
   "metadata": {},
   "outputs": [
    {
     "data": {
      "image/png": "[encoded data removed]",
      "text/plain": [
       "<Figure size 640x480 with 1 Axes>"
      ]
     },
     "metadata": {},
     "output_type": "display_data"
    },
    {
     "name": "stdout",
     "output_type": "stream",
     "text": [
      "moveResponse.result=0\n",
      "moveResponse.state.finished=False\n",
      "moveResponse.state.inventory=0\n"
     ]
    }
   ],
   "source": [
    "frame = plot_map(map)\n",
    "explore()"
   ]
  },
  {
   "cell_type": "code",
   "execution_count": 14,
   "metadata": {},
   "outputs": [
    {
     "data": {
      "image/png": "[encoded data removed]",
      "text/plain": [
       "<Figure size 640x480 with 1 Axes>"
      ]
     },
     "metadata": {},
     "output_type": "display_data"
    },
    {
     "name": "stdout",
     "output_type": "stream",
     "text": [
      "moveResponse.result=0\n",
      "moveResponse.state.finished=True\n",
      "moveResponse.state.inventory=0\n"
     ]
    }
   ],
   "source": [
    "start()\n",
    "frame = plot_map(map)\n",
    "\n",
    "while not finished:\n",
    "    explore()\n",
    "    try_reach_exit()\n",
    "    if finished: break\n",
    "    try_get_key()\n",
    "    try_open_door()"
   ]
  }
 ],
 "metadata": {
  "kernelspec": {
   "display_name": "swoc",
   "language": "python",
   "name": "python3"
  },
  "language_info": {
   "codemirror_mode": {
    "name": "ipython",
    "version": 3
   },
   "file_extension": ".py",
   "mimetype": "text/x-python",
   "name": "python",
   "nbconvert_exporter": "python",
   "pygments_lexer": "ipython3",
   "version": "3.12.2"
  }
 },
 "nbformat": 4,
 "nbformat_minor": 2
}
