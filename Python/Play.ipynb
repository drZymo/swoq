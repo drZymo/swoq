{
 "cells": [
  {
   "cell_type": "code",
   "execution_count": null,
   "metadata": {},
   "outputs": [],
   "source": [
    "import grpc\n",
    "import swoq_pb2\n",
    "import swoq_pb2_grpc\n",
    "import numpy as np\n",
    "import matplotlib.pyplot as plt"
   ]
  },
  {
   "cell_type": "code",
   "execution_count": null,
   "metadata": {},
   "outputs": [],
   "source": [
    "player_id = '6616b1c5bd0a697480a68319'"
   ]
  },
  {
   "cell_type": "code",
   "execution_count": null,
   "metadata": {},
   "outputs": [],
   "source": [
    "with grpc.insecure_channel('localhost:5009') as channel:\n",
    "    stub = swoq_pb2_grpc.TrainingStub(channel)\n",
    "    startResponse = stub.StartGame(swoq_pb2.StartRequest(playerId=player_id))\n",
    "\n",
    "print(f'{startResponse.result=}')\n",
    "\n",
    "game_id = startResponse.gameId\n",
    "print(f'{game_id=}')\n",
    "height = startResponse.height\n",
    "width = startResponse.width\n",
    "print(f'{height=}, {width=}')\n",
    "\n",
    "map = np.array(startResponse.state.map).reshape(height, width)\n",
    "plt.figure()\n",
    "plt.imshow(map)"
   ]
  },
  {
   "cell_type": "code",
   "execution_count": null,
   "metadata": {},
   "outputs": [],
   "source": [
    "player_pos = np.argwhere(map == swoq_pb2.PLAYER)[0]\n",
    "target_pos = np.array([height-2, width-1])\n",
    "print(f'{player_pos=}, {target_pos=}')\n",
    "\n",
    "diff = target_pos - player_pos\n",
    "moves = np.ones((2,2))\n",
    "direction = (np.sign(diff) == 1) * 1\n",
    "print(f'{direction=}')\n",
    "moves[0,direction[0]] = diff[0]\n",
    "moves[1,direction[1]] = diff[1]\n",
    "moves = moves.flatten()\n",
    "moves_e = np.exp(moves)\n",
    "moves_p = moves_e / np.sum(moves_e)\n",
    "print(f'{moves_p=}')\n",
    "\n",
    "directions = [swoq_pb2.NORTH, swoq_pb2.SOUTH, swoq_pb2.WEST, swoq_pb2.EAST]\n",
    "action = np.random.choice(directions, p=moves_p)\n",
    "print(f'{action=}')\n",
    "\n",
    "with grpc.insecure_channel('localhost:5009') as channel:\n",
    "    stub = swoq_pb2_grpc.TrainingStub(channel)\n",
    "    moveResponse = stub.Move(swoq_pb2.MoveRequest(gameId=game_id, direction=action))\n",
    "\n",
    "print(f'{moveResponse.result=}')\n",
    "print(f'{moveResponse.state.finished=}')\n",
    "\n",
    "map = np.array(moveResponse.state.map).reshape(height, width)\n",
    "plt.figure()\n",
    "plt.imshow(map)"
   ]
  }
 ],
 "metadata": {
  "kernelspec": {
   "display_name": "swoc",
   "language": "python",
   "name": "python3"
  },
  "language_info": {
   "codemirror_mode": {
    "name": "ipython",
    "version": 3
   },
   "file_extension": ".py",
   "mimetype": "text/x-python",
   "name": "python",
   "nbconvert_exporter": "python",
   "pygments_lexer": "ipython3",
   "version": "3.12.2"
  }
 },
 "nbformat": 4,
 "nbformat_minor": 2
}
