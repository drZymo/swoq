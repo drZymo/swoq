{
 "cells": [
  {
   "cell_type": "code",
   "execution_count": null,
   "metadata": {},
   "outputs": [],
   "source": [
    "from map_util import *\n",
    "from play import GamePlayer"
   ]
  },
  {
   "cell_type": "code",
   "execution_count": null,
   "metadata": {},
   "outputs": [],
   "source": [
    "def fixed():\n",
    "    with GamePlayer() as player:\n",
    "        player.start(6)\n",
    "        #sequence = 'WNWNWNWNNEEESSSSSSSSSSSSSSSSSSSSSSSSEEEEEEEEEEEEEEEEEENNEEEEEeeeeESSSSSSeEE'\n",
    "        sequence = 'WNWNWNWNNEEEEEEESWSWSWSSSSSSSSSSSSSSSSSSSSSEEEEEEEEEEEEEEEEENENEEeeeeeeESSSSSSEEeEE'\n",
    "        #sequence = 'WNWNWNWNNEEESSSSSSSSSSSSSSSSSSSSSSSSEEEEEEEEEEEEEEEEEENNEEESNSNSNS'\n",
    "\n",
    "        for c in sequence:\n",
    "            if c == 'N': player.move('N')\n",
    "            if c == 'E': player.move('E')\n",
    "            if c == 'S': player.move('S')\n",
    "            if c == 'W': player.move('W')\n",
    "            if c == 'n': player.use('N')\n",
    "            if c == 'e': player.use('E')\n",
    "            if c == 's': player.use('S')\n",
    "            if c == 'w': player.use('W')\n",
    "            \n",
    "            if player.finished:\n",
    "                print('FINISHED')\n",
    "                break\n",
    "            #sleep(0.1)\n",
    "\n",
    "#fixed()"
   ]
  },
  {
   "cell_type": "code",
   "execution_count": null,
   "metadata": {},
   "outputs": [],
   "source": [
    "with GamePlayer() as player:\n",
    "    player.start(6)\n",
    "\n",
    "    while not player.finished:\n",
    "        player.explore()\n",
    "        player.try_reach_exit()\n",
    "        if player.finished: break\n",
    "        player.try_get_health()\n",
    "        player.try_get_sword()\n",
    "        player.fight_enemy()\n",
    "        player.try_get_key()\n",
    "        player.try_open_door()\n",
    "        player.move_to_pressure_plate()\n",
    "        #sleep(0.1)"
   ]
  }
 ],
 "metadata": {
  "kernelspec": {
   "display_name": "swoc",
   "language": "python",
   "name": "python3"
  },
  "language_info": {
   "codemirror_mode": {
    "name": "ipython",
    "version": 3
   },
   "file_extension": ".py",
   "mimetype": "text/x-python",
   "name": "python",
   "nbconvert_exporter": "python",
   "pygments_lexer": "ipython3",
   "version": "3.12.2"
  }
 },
 "nbformat": 4,
 "nbformat_minor": 2
}
