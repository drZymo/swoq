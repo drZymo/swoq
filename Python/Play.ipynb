{
 "cells": [
  {
   "cell_type": "code",
   "execution_count": null,
   "metadata": {},
   "outputs": [],
   "source": [
    "from map_util import *\n",
    "from play import GamePlayer"
   ]
  },
  {
   "cell_type": "code",
   "execution_count": null,
   "metadata": {},
   "outputs": [],
   "source": [
    "# start(6)\n",
    "# frame = plot_map(map)\n",
    "\n",
    "# sequence = 'WNWNWNWNNEEESSSSSSSSSSSSSSSSSSSSSSSSEEEEEEEEEEEEEEEEEENNEEEEEeeeeESSSSSSeEE'\n",
    "# #sequence = 'WNWNWNWNNEEESSSSSSSSSSSSSSSSSSSSSSSSEEEEEEEEEEEEEEEEEENNEEESNSNSNS'\n",
    "\n",
    "# for c in sequence:\n",
    "#     if c == 'N': move('N')\n",
    "#     if c == 'E': move('E')\n",
    "#     if c == 'S': move('S')\n",
    "#     if c == 'W': move('W')\n",
    "#     if c == 'n': use('N')\n",
    "#     if c == 'e': use('E')\n",
    "#     if c == 's': use('S')\n",
    "#     if c == 'w': use('W')\n",
    "#     sleep(0.1)"
   ]
  },
  {
   "cell_type": "code",
   "execution_count": null,
   "metadata": {},
   "outputs": [],
   "source": [
    "with GamePlayer() as player:\n",
    "    player.start(6)\n",
    "\n",
    "    while not player.finished:\n",
    "        player.explore()\n",
    "        player.try_reach_exit()\n",
    "        if player.finished: break\n",
    "        player.try_get_sword()\n",
    "        player.try_get_key()\n",
    "        player.try_open_door()\n",
    "        player.move_to_pressure_plate()\n",
    "        player.fight_enemy()\n",
    "        #sleep(0.1)"
   ]
  }
 ],
 "metadata": {
  "kernelspec": {
   "display_name": "swoc",
   "language": "python",
   "name": "python3"
  },
  "language_info": {
   "codemirror_mode": {
    "name": "ipython",
    "version": 3
   },
   "file_extension": ".py",
   "mimetype": "text/x-python",
   "name": "python",
   "nbconvert_exporter": "python",
   "pygments_lexer": "ipython3",
   "version": "3.12.2"
  }
 },
 "nbformat": 4,
 "nbformat_minor": 2
}
