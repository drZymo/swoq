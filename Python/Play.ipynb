{
 "cells": [
  {
   "cell_type": "code",
   "execution_count": null,
   "metadata": {},
   "outputs": [],
   "source": [
    "import grpc\n",
    "import swoq_pb2\n",
    "import swoq_pb2_grpc\n",
    "import numpy as np\n",
    "import matplotlib.pyplot as plt"
   ]
  },
  {
   "cell_type": "code",
   "execution_count": null,
   "metadata": {},
   "outputs": [],
   "source": [
    "player_id = '6616b1c5bd0a697480a68319'"
   ]
  },
  {
   "cell_type": "code",
   "execution_count": null,
   "metadata": {},
   "outputs": [],
   "source": [
    "credentials = grpc.ssl_channel_credentials(open('localhost.pem', 'rb').read())\n",
    "with grpc.secure_channel('localhost:7262', credentials) as channel:\n",
    "    stub = swoq_pb2_grpc.TrainingStub(channel)\n",
    "    startResponse = stub.StartGame(swoq_pb2.StartRequest(playerId=player_id))\n",
    "\n",
    "game_id = startResponse.gameId\n",
    "game_id"
   ]
  },
  {
   "cell_type": "code",
   "execution_count": null,
   "metadata": {},
   "outputs": [],
   "source": [
    "state = np.array(startResponse.state).reshape(20,20)\n",
    "plt.figure()\n",
    "plt.imshow(state)"
   ]
  },
  {
   "cell_type": "code",
   "execution_count": null,
   "metadata": {},
   "outputs": [],
   "source": [
    "STATE_UNKNOWN = 0\n",
    "STATE_PLAYER = 1\n",
    "STATE_EMPTY = 2\n",
    "STATE_WALL = 3\n",
    "STATE_EXIT = 4"
   ]
  }
 ],
 "metadata": {
  "kernelspec": {
   "display_name": "swoc",
   "language": "python",
   "name": "python3"
  },
  "language_info": {
   "codemirror_mode": {
    "name": "ipython",
    "version": 3
   },
   "file_extension": ".py",
   "mimetype": "text/x-python",
   "name": "python",
   "nbconvert_exporter": "python",
   "pygments_lexer": "ipython3",
   "version": "3.12.2"
  }
 },
 "nbformat": 4,
 "nbformat_minor": 2
}
