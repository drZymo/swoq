{
 "cells": [
  {
   "cell_type": "code",
   "execution_count": null,
   "metadata": {},
   "outputs": [],
   "source": [
    "import grpc\n",
    "import swoq_pb2\n",
    "import swoq_pb2_grpc\n",
    "import numpy as np\n",
    "import matplotlib.pyplot as plt"
   ]
  },
  {
   "cell_type": "code",
   "execution_count": null,
   "metadata": {},
   "outputs": [],
   "source": [
    "player_id = '6616b1c5bd0a697480a68319'"
   ]
  },
  {
   "cell_type": "code",
   "execution_count": null,
   "metadata": {},
   "outputs": [],
   "source": [
    "with grpc.insecure_channel('localhost:5009') as channel:\n",
    "    stub = swoq_pb2_grpc.TrainingStub(channel)\n",
    "    startResponse = stub.StartGame(swoq_pb2.StartRequest(playerId=player_id))\n",
    "\n",
    "print(f'{startResponse.result=}')\n",
    "\n",
    "game_id = startResponse.gameId\n",
    "print(f'{game_id=}')\n",
    "height = startResponse.height\n",
    "width = startResponse.width\n",
    "print(f'{height=}, {width=}')\n",
    "\n",
    "map = np.array(startResponse.state.map).reshape(height, width)\n",
    "plt.figure()\n",
    "plt.imshow(map)"
   ]
  },
  {
   "cell_type": "code",
   "execution_count": null,
   "metadata": {},
   "outputs": [],
   "source": [
    "with grpc.insecure_channel('localhost:5009') as channel:\n",
    "    stub = swoq_pb2_grpc.TrainingStub(channel)\n",
    "    moveResponse = stub.Move(swoq_pb2.MoveRequest(gameId=game_id, direction=swoq_pb2.NORTH))\n",
    "\n",
    "print(f'{moveResponse.result=}')\n",
    "print(f'{moveResponse.state.finished=}')\n",
    "\n",
    "map = np.array(moveResponse.state.map).reshape(height, width)\n",
    "plt.figure()\n",
    "plt.imshow(map)"
   ]
  }
 ],
 "metadata": {
  "kernelspec": {
   "display_name": "swoc",
   "language": "python",
   "name": "python3"
  },
  "language_info": {
   "codemirror_mode": {
    "name": "ipython",
    "version": 3
   },
   "file_extension": ".py",
   "mimetype": "text/x-python",
   "name": "python",
   "nbconvert_exporter": "python",
   "pygments_lexer": "ipython3",
   "version": "3.12.2"
  }
 },
 "nbformat": 4,
 "nbformat_minor": 2
}
