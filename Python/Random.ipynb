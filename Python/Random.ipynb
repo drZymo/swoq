{
 "cells": [
  {
   "cell_type": "code",
   "execution_count": null,
   "metadata": {},
   "outputs": [],
   "source": [
    "from map_util import *\n",
    "from play import GamePlayer\n",
    "from time import sleep\n",
    "import numpy as no"
   ]
  },
  {
   "cell_type": "code",
   "execution_count": null,
   "metadata": {},
   "outputs": [],
   "source": [
    "player_id = '663d47788054476b438b61f4'"
   ]
  },
  {
   "cell_type": "code",
   "execution_count": null,
   "metadata": {},
   "outputs": [],
   "source": [
    "with GamePlayer(player_id=player_id, plot=True, print=True) as player:\n",
    "    \n",
    "    actions = ['MN', 'ME', 'MS', 'MW', 'UN', 'UE', 'US', 'UW']\n",
    "    \n",
    "    player.start()\n",
    "\n",
    "    while not player.finished:\n",
    "        action = np.random.choice(actions)\n",
    "        \n",
    "        if action[0] == 'M':\n",
    "            player.queue_move1(action[1])\n",
    "        elif action[0] == 'U':\n",
    "            player.queue_use1(action[1])\n",
    "        \n",
    "        player.act()\n",
    "        #sleep(0.1)"
   ]
  }
 ],
 "metadata": {
  "kernelspec": {
   "display_name": "swoc",
   "language": "python",
   "name": "python3"
  },
  "language_info": {
   "codemirror_mode": {
    "name": "ipython",
    "version": 3
   },
   "file_extension": ".py",
   "mimetype": "text/x-python",
   "name": "python",
   "nbconvert_exporter": "python",
   "pygments_lexer": "ipython3",
   "version": "3.12.2"
  }
 },
 "nbformat": 4,
 "nbformat_minor": 2
}
